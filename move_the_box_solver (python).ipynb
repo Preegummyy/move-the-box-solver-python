{
 "cells": [
  {
   "cell_type": "markdown",
   "id": "8e765975-e5e9-4a4f-808d-707d9f251f3c",
   "metadata": {},
   "source": [
    "# global"
   ]
  },
  {
   "cell_type": "markdown",
   "id": "f31f008d-583d-4ba0-bc92-6c22813d69ec",
   "metadata": {},
   "source": [
    "## import library"
   ]
  },
  {
   "cell_type": "code",
   "execution_count": 117,
   "id": "e853035a-efb8-4475-a2bc-1f57c01d746d",
   "metadata": {},
   "outputs": [],
   "source": [
    "import matplotlib.pyplot as plt\n",
    "import numpy as np\n",
    "from matplotlib.colors import LinearSegmentedColormap"
   ]
  },
  {
   "cell_type": "markdown",
   "id": "5f6034d5-5884-401f-8689-c7ada2776a78",
   "metadata": {},
   "source": [
    "## global setting"
   ]
  },
  {
   "cell_type": "markdown",
   "id": "49bae7a2-c714-48fb-8cb1-9f6bace89326",
   "metadata": {},
   "source": [
    "### bit definitions"
   ]
  },
  {
   "cell_type": "code",
   "execution_count": 118,
   "id": "0a46c105-e501-460c-8ffd-a6052836d3b0",
   "metadata": {
    "tags": []
   },
   "outputs": [
    {
     "data": {
      "text/html": [
       "<style>\n",
       "table {float:left}\n",
       "</style>\n"
      ],
      "text/plain": [
       "<IPython.core.display.HTML object>"
      ]
     },
     "metadata": {},
     "output_type": "display_data"
    }
   ],
   "source": [
    "%%html\n",
    "<style>\n",
    "table {float:left}\n",
    "</style>"
   ]
  },
  {
   "cell_type": "markdown",
   "id": "7ce3d028-e68f-48f8-8752-48a241e38d91",
   "metadata": {},
   "source": [
    "| box_value | box_name     | box_bit       |\n",
    "|-----------|--------------|---------------|\n",
    "| 0         | Empty        | [0,0,0,0,0,0] |\n",
    "| 1         | BrownWood    | [1,0,0,0,0,0] |\n",
    "| 2         | RedWood      | [0,1,0,0,0,0] |\n",
    "| 3         | GreenWood    | [0,0,1,0,0,0] |\n",
    "| 4         | BrownLeather | [0,0,0,1,0,0] |\n",
    "| 5         | BrownPaper   | [0,0,0,0,1,0] |\n",
    "| 6         | BlueSteel    | [0,0,0,0,0,1] |"
   ]
  },
  {
   "cell_type": "markdown",
   "id": "ddd27f06-0326-4005-abb5-92d84bf9cd90",
   "metadata": {},
   "source": [
    "### colors definitions"
   ]
  },
  {
   "cell_type": "code",
   "execution_count": 119,
   "id": "4d3c859b-5135-422a-b335-6ff90af006f0",
   "metadata": {},
   "outputs": [],
   "source": [
    "box_color_map_list = (\n",
    "    np.array(\n",
    "        [\n",
    "            [255, 255, 255],\n",
    "            [169, 133, 92],\n",
    "            [183, 71, 34],\n",
    "            [156, 164, 52],\n",
    "            [102, 65, 38],\n",
    "            [189, 140, 61],\n",
    "            [149, 165, 168],\n",
    "        ]\n",
    "    )\n",
    "    / 255\n",
    ")"
   ]
  },
  {
   "cell_type": "code",
   "execution_count": 120,
   "id": "06ee662f-5783-4648-a52f-1551d1ff9281",
   "metadata": {},
   "outputs": [],
   "source": [
    "box_color_map = LinearSegmentedColormap.from_list(\n",
    "    \"box_color_map\",\n",
    "    box_color_map_list,\n",
    "    box_color_map_list.shape[0],\n",
    ")"
   ]
  },
  {
   "cell_type": "markdown",
   "id": "b5425753-e620-4375-b515-66c444ec8077",
   "metadata": {},
   "source": [
    "## define function"
   ]
  },
  {
   "cell_type": "markdown",
   "id": "dc4f6c60-9cd5-414e-903b-ffc846ffb918",
   "metadata": {},
   "source": [
    "### board and display"
   ]
  },
  {
   "cell_type": "markdown",
   "id": "3864e972-befd-4b49-a967-5e53cf877ae8",
   "metadata": {},
   "source": [
    "#### display board"
   ]
  },
  {
   "cell_type": "code",
   "execution_count": 121,
   "id": "a8aff974-6e18-474b-b053-58d50c1f87f7",
   "metadata": {},
   "outputs": [],
   "source": [
    "def displayBoard(board):\n",
    "\n",
    "    # create virtual board\n",
    "    display_board = np.zeros((9, 7), dtype=np.int8)\n",
    "    box_index = board.any(axis=2)\n",
    "    display_board[box_index] = np.argwhere(board)[:, 2] + 1\n",
    "\n",
    "    # plot virtual board\n",
    "    fig = plt.figure(figsize=(3.5, 4.5))\n",
    "    ax = fig.add_subplot(111)\n",
    "    ax.pcolor(\n",
    "        display_board,\n",
    "        cmap=box_color_map,\n",
    "        vmin=0,\n",
    "        vmax=6,\n",
    "        edgecolors=\"k\",\n",
    "        linewidth=2,\n",
    "    )\n",
    "\n",
    "    xticks_label = np.arange(0, 7, 1)\n",
    "    yticks_label = np.arange(0, 9, 1)\n",
    "\n",
    "    # centering of call\n",
    "    ax.set_xticks(xticks_label + 0.5, minor=False)\n",
    "    ax.set_yticks(yticks_label + 0.5, minor=False)\n",
    "\n",
    "    # label\n",
    "    ax.set_xticklabels(xticks_label)\n",
    "    ax.set_yticklabels(yticks_label)\n",
    "\n",
    "    plt.show()"
   ]
  },
  {
   "cell_type": "markdown",
   "id": "cece892f-e8d5-41ac-b5ff-6c3bd30e70e9",
   "metadata": {},
   "source": [
    "#### create board"
   ]
  },
  {
   "cell_type": "code",
   "execution_count": 122,
   "id": "78c0f3b0-55bc-4c13-83ba-1af3245338cb",
   "metadata": {},
   "outputs": [],
   "source": [
    "def createBoard(box_index=None, box_value=None):\n",
    "\n",
    "    board = np.zeros((9, 7, 6), dtype=np.bool_)\n",
    "\n",
    "    if box_index == None or box_value == None:\n",
    "        return board\n",
    "\n",
    "    else:\n",
    "        return addBox(board, box_index, box_value)"
   ]
  },
  {
   "cell_type": "markdown",
   "id": "4ecaf0a0-067d-47ba-8f05-eb9b85e644aa",
   "metadata": {},
   "source": [
    "#### add box"
   ]
  },
  {
   "cell_type": "code",
   "execution_count": 123,
   "id": "40ebb33b-54ce-4703-b9d3-fa31cab8ed5f",
   "metadata": {},
   "outputs": [],
   "source": [
    "def addBox(board, box_index, box_value):\n",
    "\n",
    "    if isinstance(box_value, int):\n",
    "        box = board[box_index]\n",
    "        box[:, box_value - 1] = 1\n",
    "        board[box_index] = box\n",
    "\n",
    "    if isinstance(box_value, list):\n",
    "\n",
    "        if len(box_value) != len(box_index):\n",
    "            raise Exception(\"len(list) is not match\")\n",
    "\n",
    "        for i in range(len(box_value)):\n",
    "            box = board[box_index[i]]\n",
    "            box[:, box_value[i] - 1] = 1\n",
    "            board[box_index[i]] = box\n",
    "\n",
    "    return board"
   ]
  },
  {
   "cell_type": "markdown",
   "id": "ab1c232f-9c03-4d3d-8ab7-7b320442ffaf",
   "metadata": {},
   "source": [
    "### solver"
   ]
  },
  {
   "cell_type": "markdown",
   "id": "588cd905-e4bc-49ab-ae63-86d88979501b",
   "metadata": {},
   "source": [
    "#### utility"
   ]
  },
  {
   "cell_type": "code",
   "execution_count": 124,
   "id": "371ce2b5-e941-4fd8-908d-5d210fa314cf",
   "metadata": {},
   "outputs": [],
   "source": [
    "def check_is_empty(box):\n",
    "    return not box.any()"
   ]
  },
  {
   "cell_type": "code",
   "execution_count": 125,
   "id": "2f75a757-7246-4518-91a0-93813bde07c3",
   "metadata": {},
   "outputs": [],
   "source": [
    "def check_is_same_color(box1, box2):\n",
    "    return (box1 == box2).all()"
   ]
  },
  {
   "cell_type": "code",
   "execution_count": null,
   "id": "2aa207ae-896e-4a65-acb2-54350a739c80",
   "metadata": {},
   "outputs": [],
   "source": [
    "def check_is_empty_board(board):\n",
    "    return board.any()"
   ]
  },
  {
   "cell_type": "markdown",
   "id": "bd71de2d-f4b0-4fae-ac63-42c7d87695e2",
   "metadata": {},
   "source": [
    "#### find move"
   ]
  },
  {
   "cell_type": "code",
   "execution_count": 126,
   "id": "5d0f00ab-6cc1-49c2-bfb7-3b4f7da4aa02",
   "metadata": {},
   "outputs": [],
   "source": [
    "def findAllMove():\n",
    "    all_move_index = []\n",
    "    row_arange = np.arange(0, 9, 1)\n",
    "    col_arange = np.arange(0, 7, 1)\n",
    "    row_index, col_index = np.meshgrid(row_arange, col_arange)\n",
    "    point_index = np.vstack((row_index.reshape(-1), col_index.reshape(-1))).T\n",
    "\n",
    "    for index in point_index:\n",
    "\n",
    "        if index[1] < 6:\n",
    "            # move_right\n",
    "            move_right_index = np.array([index, index + np.array([0, 1])])\n",
    "            all_move_index.append(move_right_index)\n",
    "\n",
    "        if index[0] < 8:\n",
    "            # move_up\n",
    "            move_up_index = np.array([index, index + np.array([1, 0])])\n",
    "            all_move_index.append(move_up_index)\n",
    "\n",
    "    return np.array(all_move_index)"
   ]
  },
  {
   "cell_type": "code",
   "execution_count": 127,
   "id": "d414a368-bbe7-4cb0-9f8d-9a7a18b7abcb",
   "metadata": {},
   "outputs": [],
   "source": [
    "def findNotDuplicateMove(board):\n",
    "    all_move_index = findAllMove()\n",
    "\n",
    "    not_duplicate_move_index = []\n",
    "    for move_index in all_move_index:\n",
    "        point_a_index = move_index[0]\n",
    "        point_a_value = board[point_a_index[0], point_a_index[1], :]\n",
    "\n",
    "        point_b_index = move_index[1]\n",
    "        point_b_value = board[point_b_index[0], point_b_index[1], :]\n",
    "\n",
    "        if not check_is_same_color(point_a_value, point_b_value):\n",
    "            not_duplicate_move_index.append(move_index)\n",
    "\n",
    "    return np.array(not_duplicate_move_index)"
   ]
  },
  {
   "cell_type": "markdown",
   "id": "f1ad4e18-02bf-4490-928f-50483a18d332",
   "metadata": {},
   "source": [
    "### action"
   ]
  },
  {
   "cell_type": "code",
   "execution_count": 128,
   "id": "3e5622c5-9201-4bcf-8522-b866180cc027",
   "metadata": {},
   "outputs": [],
   "source": [
    "def move(board, move_index):\n",
    "\n",
    "    # collect value\n",
    "    point_a_index = move_index[0]\n",
    "    point_a_value = board[point_a_index[0], point_a_index[1], :].copy()\n",
    "\n",
    "    point_b_index = move_index[1]\n",
    "    point_b_value = board[point_b_index[0], point_b_index[1], :].copy()\n",
    "\n",
    "    # move\n",
    "    board[point_a_index[0], point_a_index[1], :] = point_b_value\n",
    "    board[point_b_index[0], point_b_index[1], :] = point_a_value\n",
    "\n",
    "    board = fall(board)\n",
    "    board = remove(board)\n",
    "\n",
    "    return board"
   ]
  },
  {
   "cell_type": "code",
   "execution_count": 179,
   "id": "8722a45e-4583-409b-bdb3-e54811143887",
   "metadata": {},
   "outputs": [],
   "source": [
    "def fall(board):\n",
    "    for y in range(board.shape[1]):\n",
    "\n",
    "        x = 0\n",
    "        is_fall = False\n",
    "\n",
    "        while x < board.shape[0] - 1:\n",
    "\n",
    "            # skip floor and run loop\n",
    "            x += 1\n",
    "\n",
    "            # check below is empty\n",
    "            if not check_is_empty(board[x, y, :]) and check_is_empty(\n",
    "                board[x - 1, y, :]\n",
    "            ):\n",
    "\n",
    "                # fall\n",
    "                board[x - 1, y, :] = board[x, y, :].copy()\n",
    "                board[x, y, :] = False\n",
    "                is_fall = True\n",
    "\n",
    "            if is_fall and (x >= board.shape[0] - 1):\n",
    "\n",
    "                # reset and fall again\n",
    "                x = 0\n",
    "                is_fall = False\n",
    "\n",
    "    return board"
   ]
  },
  {
   "cell_type": "code",
   "execution_count": 207,
   "id": "b743b899-982c-4f76-b822-c08a381759a3",
   "metadata": {},
   "outputs": [],
   "source": [
    "def remove(board):\n",
    "\n",
    "    remove_list = check(board)\n",
    "\n",
    "    if len(remove_list) > 0:\n",
    "        for remove_index in remove_list:\n",
    "            board[remove_index[0], remove_index[1], :] = False\n",
    "        board = fall(board)\n",
    "        board = remove(board)\n",
    "\n",
    "    return board"
   ]
  },
  {
   "cell_type": "code",
   "execution_count": 208,
   "id": "5c122960-6a59-4a04-bc68-601134843d26",
   "metadata": {},
   "outputs": [],
   "source": [
    "def check(board):\n",
    "    remove_list = []\n",
    "\n",
    "    for x in range(board.shape[0]):\n",
    "        remove_list = remove_list + check_row(board, x)\n",
    "\n",
    "    for y in range(board.shape[1]):\n",
    "        remove_list = remove_list + check_col(board, y)\n",
    "\n",
    "    return remove_list"
   ]
  },
  {
   "cell_type": "code",
   "execution_count": 209,
   "id": "aa1dec5d-ffbf-4d3a-9e84-4edb10ac5182",
   "metadata": {},
   "outputs": [],
   "source": [
    "def check_row(board, x):\n",
    "    count = 1\n",
    "    last_found = board[x, 0, :]\n",
    "    remove_list = []\n",
    "    is_change = False\n",
    "    for y in range(1, board.shape[1]):\n",
    "\n",
    "        if check_is_same_color(last_found, board[x, y, :]):\n",
    "            if check_is_empty(board[x, y, :]):\n",
    "                continue\n",
    "            else:\n",
    "                count += 1\n",
    "        else:\n",
    "            last_found = board[x, y, :]\n",
    "            is_change = True\n",
    "\n",
    "        if is_change:\n",
    "            if not check_is_empty(board[x, y - 1, :]):\n",
    "                if count >= 3:\n",
    "                    for i in range(count):\n",
    "                        remove_index = np.array([x, y - i - 1])\n",
    "                        remove_list.append(remove_index)\n",
    "            count = 1\n",
    "            is_change = False\n",
    "\n",
    "    return remove_list"
   ]
  },
  {
   "cell_type": "code",
   "execution_count": 210,
   "id": "797567e8-a96a-4da7-bb24-2475baafade9",
   "metadata": {},
   "outputs": [],
   "source": [
    "def check_col(board, y):\n",
    "    count = 1\n",
    "    last_found = board[0, y, :]\n",
    "    remove_list = []\n",
    "    is_change = False\n",
    "    for x in range(1, board.shape[0]):\n",
    "\n",
    "        if check_is_same_color(last_found, board[x, y, :]):\n",
    "            if check_is_empty(board[x, y, :]):\n",
    "                continue\n",
    "            else:\n",
    "                count += 1\n",
    "        else:\n",
    "            last_found = board[x, y, :]\n",
    "            is_change = True\n",
    "\n",
    "        if is_change:\n",
    "            if not check_is_empty(board[x - 1, y, :]):\n",
    "                if count >= 3:\n",
    "                    for i in range(count):\n",
    "                        remove_index = np.array([x - i - 1, y])\n",
    "                        remove_list.append(remove_index)\n",
    "            count = 1\n",
    "            is_change = False\n",
    "\n",
    "    return remove_list"
   ]
  },
  {
   "cell_type": "markdown",
   "id": "18a91edc-15b4-4a01-b805-17e137a294e0",
   "metadata": {},
   "source": [
    "### solve"
   ]
  },
  {
   "cell_type": "code",
   "execution_count": 307,
   "id": "14d5d66d-90b1-45c7-a638-3d380e8c7530",
   "metadata": {},
   "outputs": [],
   "source": [
    "def solve(board, move_limit, move_stack=[]):\n",
    "\n",
    "    # solve\n",
    "    if check_is_empty_board(board):\n",
    "        return True\n",
    "\n",
    "    # max_move_limit\n",
    "    if move_limit <= 0:\n",
    "        return False\n",
    "\n",
    "    all_move = findNotDuplicateMove(board)\n",
    "    for move_index in all_move:\n",
    "        board = move(board, move_index)\n",
    "\n",
    "        if check_is_empty_board(board):\n",
    "            move_stack.append(move_index)\n",
    "            return move_index\n",
    "        else:\n",
    "            move_stack.append(move_index)\n",
    "            return move_stack"
   ]
  },
  {
   "cell_type": "markdown",
   "id": "fd2a9138-7cc1-4ff0-95a0-2b4d4edaea79",
   "metadata": {},
   "source": [
    "# test create board"
   ]
  },
  {
   "cell_type": "code",
   "execution_count": 286,
   "id": "042e6095-f11e-405b-9f4d-8b1dc1fdd137",
   "metadata": {},
   "outputs": [],
   "source": [
    "box_index = [\n",
    "    (\n",
    "        [0, 0, 1],\n",
    "        [0, 1, 2],\n",
    "    ),\n",
    "    (\n",
    "        [0, 0, 0],\n",
    "        [2, 3, 5],\n",
    "    ),\n",
    "    (\n",
    "        [0, 1, 2],\n",
    "        [4, 5, 5],\n",
    "    ),\n",
    "]"
   ]
  },
  {
   "cell_type": "code",
   "execution_count": 287,
   "id": "400ba2d6-6377-4a3f-a69f-1b6e331180bd",
   "metadata": {},
   "outputs": [],
   "source": [
    "box_value = [1, 2, 3]"
   ]
  },
  {
   "cell_type": "code",
   "execution_count": 299,
   "id": "13988c66-9561-48f2-adf5-510ec4641990",
   "metadata": {},
   "outputs": [],
   "source": [
    "board = createBoard()"
   ]
  },
  {
   "cell_type": "code",
   "execution_count": 300,
   "id": "890b8b47-ccb0-46b5-80f6-2ead01128c0d",
   "metadata": {},
   "outputs": [],
   "source": [
    "board = addBox(board, box_index, box_value)"
   ]
  },
  {
   "cell_type": "code",
   "execution_count": 290,
   "id": "aa90ca47-e3c9-48a1-9478-61fab6714574",
   "metadata": {},
   "outputs": [
    {
     "data": {
      "image/png": "[encoded data removed]",
      "text/plain": [
       "<Figure size 252x324 with 1 Axes>"
      ]
     },
     "metadata": {
      "needs_background": "light"
     },
     "output_type": "display_data"
    }
   ],
   "source": [
    "displayBoard(board)"
   ]
  },
  {
   "cell_type": "code",
   "execution_count": 291,
   "id": "10812e15-8434-4a2a-a180-59cd29879666",
   "metadata": {},
   "outputs": [],
   "source": [
    "all_move = findNotDuplicateMove(board)"
   ]
  },
  {
   "cell_type": "code",
   "execution_count": 292,
   "id": "202f3432-6c95-492d-8c45-cb2c215f618f",
   "metadata": {},
   "outputs": [
    {
     "data": {
      "text/plain": [
       "(18, 2, 2)"
      ]
     },
     "execution_count": 292,
     "metadata": {},
     "output_type": "execute_result"
    }
   ],
   "source": [
    "all_move.shape"
   ]
  },
  {
   "cell_type": "code",
   "execution_count": 293,
   "id": "8512a6f0-222d-4b22-98fc-362cd687ef5f",
   "metadata": {},
   "outputs": [],
   "source": [
    "board = move(board, all_move[9])"
   ]
  },
  {
   "cell_type": "code",
   "execution_count": 294,
   "id": "52b79600-1feb-4488-af8e-fc7dd36ebdb9",
   "metadata": {},
   "outputs": [
    {
     "data": {
      "image/png": "[encoded data removed]",
      "text/plain": [
       "<Figure size 252x324 with 1 Axes>"
      ]
     },
     "metadata": {
      "needs_background": "light"
     },
     "output_type": "display_data"
    }
   ],
   "source": [
    "displayBoard(board)"
   ]
  },
  {
   "cell_type": "code",
   "execution_count": 295,
   "id": "4405b638-244c-4092-96f4-cd8b4968dbfb",
   "metadata": {},
   "outputs": [],
   "source": [
    "board = remove(board)"
   ]
  },
  {
   "cell_type": "code",
   "execution_count": 296,
   "id": "8a9b9ec2-0d4e-4bfb-91a3-9983189efad9",
   "metadata": {},
   "outputs": [
    {
     "data": {
      "image/png": "[encoded data removed]",
      "text/plain": [
       "<Figure size 252x324 with 1 Axes>"
      ]
     },
     "metadata": {
      "needs_background": "light"
     },
     "output_type": "display_data"
    }
   ],
   "source": [
    "displayBoard(board)"
   ]
  }
 ],
 "metadata": {
  "kernelspec": {
   "display_name": "Python 3",
   "language": "python",
   "name": "python3"
  },
  "language_info": {
   "codemirror_mode": {
    "name": "ipython",
    "version": 3
   },
   "file_extension": ".py",
   "mimetype": "text/x-python",
   "name": "python",
   "nbconvert_exporter": "python",
   "pygments_lexer": "ipython3",
   "version": "3.8.10"
  }
 },
 "nbformat": 4,
 "nbformat_minor": 5
}

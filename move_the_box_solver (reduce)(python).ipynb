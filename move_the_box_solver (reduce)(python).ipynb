{
 "cells": [
  {
   "cell_type": "markdown",
   "id": "f6953aed-708a-4254-aff0-9004f00964cf",
   "metadata": {},
   "source": [
    "# import library"
   ]
  },
  {
   "cell_type": "code",
   "execution_count": 1,
   "id": "09fe29b0-ddfe-41cc-99db-6eaf2418df20",
   "metadata": {},
   "outputs": [],
   "source": [
    "import matplotlib.pyplot as plt\n",
    "import numpy as np\n",
    "from matplotlib.colors import LinearSegmentedColormap"
   ]
  },
  {
   "cell_type": "markdown",
   "id": "b933f191-0d4c-490e-bca6-2e383fb2db7c",
   "metadata": {},
   "source": [
    "# global setting"
   ]
  },
  {
   "cell_type": "markdown",
   "id": "e88290f8-e0c6-4469-9d18-b87f3ae26579",
   "metadata": {},
   "source": [
    "## bit definitions"
   ]
  },
  {
   "cell_type": "code",
   "execution_count": 2,
   "id": "7c73d05e-e073-4d7f-a71e-c0ae9dcf63b9",
   "metadata": {
    "tags": []
   },
   "outputs": [
    {
     "data": {
      "text/html": [
       "<style>\n",
       "table {float:left}\n",
       "</style>\n"
      ],
      "text/plain": [
       "<IPython.core.display.HTML object>"
      ]
     },
     "metadata": {},
     "output_type": "display_data"
    }
   ],
   "source": [
    "%%html\n",
    "<style>\n",
    "table {float:left}\n",
    "</style>"
   ]
  },
  {
   "cell_type": "markdown",
   "id": "c27f18e1-8459-409c-9c9a-b0de372de690",
   "metadata": {},
   "source": [
    "| box_value | box_name     | box_bit       |\n",
    "|-----------|--------------|---------------|\n",
    "| 0         | Empty        | [0,0,0,0,0,0] |\n",
    "| 1         | BrownWood    | [1,0,0,0,0,0] |\n",
    "| 2         | RedWood      | [0,1,0,0,0,0] |\n",
    "| 3         | GreenWood    | [0,0,1,0,0,0] |\n",
    "| 4         | BrownLeather | [0,0,0,1,0,0] |\n",
    "| 5         | BrownPaper   | [0,0,0,0,1,0] |\n",
    "| 6         | BlueSteel    | [0,0,0,0,0,1] |"
   ]
  },
  {
   "cell_type": "markdown",
   "id": "5274e2c2-ba49-4d1b-8767-efdcf364c156",
   "metadata": {},
   "source": [
    "## colors definitions"
   ]
  },
  {
   "cell_type": "code",
   "execution_count": 3,
   "id": "33663d74-adf6-49be-897e-26fbc13b98d3",
   "metadata": {},
   "outputs": [],
   "source": [
    "box_color_map_list = (\n",
    "    np.array(\n",
    "        [\n",
    "            [255, 255, 255],\n",
    "            [169, 133, 92],\n",
    "            [183, 71, 34],\n",
    "            [156, 164, 52],\n",
    "            [102, 65, 38],\n",
    "            [189, 140, 61],\n",
    "            [149, 165, 168],\n",
    "        ]\n",
    "    )\n",
    "    / 255\n",
    ")"
   ]
  },
  {
   "cell_type": "code",
   "execution_count": 4,
   "id": "3d3d1868-ce33-465f-ad61-9e60f5f4ef1f",
   "metadata": {},
   "outputs": [],
   "source": [
    "box_color_map = LinearSegmentedColormap.from_list(\n",
    "    \"box_color_map\",\n",
    "    box_color_map_list,\n",
    "    box_color_map_list.shape[0],\n",
    ")"
   ]
  },
  {
   "cell_type": "markdown",
   "id": "abb60e75-e2fe-4d05-b66d-29855d601525",
   "metadata": {},
   "source": [
    "# define function"
   ]
  },
  {
   "cell_type": "markdown",
   "id": "f59af0bb-6aec-45d4-907f-32902cea726c",
   "metadata": {},
   "source": [
    "## board and display"
   ]
  },
  {
   "cell_type": "markdown",
   "id": "1680701b-6ec4-4aee-baf4-5b2b085b9350",
   "metadata": {},
   "source": [
    "### create board"
   ]
  },
  {
   "cell_type": "code",
   "execution_count": 5,
   "id": "87e5ff8c-172a-4270-8044-23ee1156cb02",
   "metadata": {},
   "outputs": [],
   "source": [
    "def createBoard(box_index=None, box_value=None):\n",
    "\n",
    "    board = np.zeros((9, 7), dtype=np.int8)\n",
    "\n",
    "    if box_index == None or box_value == None:\n",
    "        return board\n",
    "\n",
    "    else:\n",
    "        return addBox(board, box_index, box_value)"
   ]
  },
  {
   "cell_type": "markdown",
   "id": "a710af98-f546-4e2f-bcfa-2b49c9ff3e0f",
   "metadata": {},
   "source": [
    "### add box"
   ]
  },
  {
   "cell_type": "code",
   "execution_count": 6,
   "id": "8e29d6b3-0289-4079-b966-55b4d81d147f",
   "metadata": {},
   "outputs": [],
   "source": [
    "def addBox(board, box_index, box_value):\n",
    "\n",
    "    if isinstance(box_value, int):\n",
    "        board[box_index] = box_value\n",
    "\n",
    "    if isinstance(box_value, list):\n",
    "\n",
    "        if len(box_value) != len(box_index):\n",
    "            raise Exception(\"len(list) is not match\")\n",
    "\n",
    "        for i in range(len(box_value)):\n",
    "            board[box_index[i]] = box_value[i]\n",
    "\n",
    "    return board"
   ]
  },
  {
   "cell_type": "markdown",
   "id": "a38dd96c-1c6c-47c4-ab9f-79c400232683",
   "metadata": {},
   "source": [
    "### display board"
   ]
  },
  {
   "cell_type": "code",
   "execution_count": 7,
   "id": "6e2f075d-567c-4b6e-824d-a853d8fc6a5d",
   "metadata": {},
   "outputs": [],
   "source": [
    "def displayBoard(board):\n",
    "\n",
    "    # plot virtual board\n",
    "    fig = plt.figure(figsize=(3.5, 4.5))\n",
    "    ax = fig.add_subplot(111)\n",
    "    ax.pcolor(\n",
    "        board,\n",
    "        cmap=box_color_map,\n",
    "        vmin=0,\n",
    "        vmax=6,\n",
    "        edgecolors=\"k\",\n",
    "        linewidth=2,\n",
    "    )\n",
    "\n",
    "    xticks_label = np.arange(0, 7, 1)\n",
    "    yticks_label = np.arange(0, 9, 1)\n",
    "\n",
    "    # centering of call\n",
    "    ax.set_xticks(xticks_label + 0.5, minor=False)\n",
    "    ax.set_yticks(yticks_label + 0.5, minor=False)\n",
    "\n",
    "    # label\n",
    "    ax.set_xticklabels(xticks_label)\n",
    "    ax.set_yticklabels(yticks_label)\n",
    "\n",
    "    plt.show()"
   ]
  },
  {
   "cell_type": "markdown",
   "id": "5216bb83-d178-4724-a171-33633d5b1d87",
   "metadata": {},
   "source": [
    "## solver"
   ]
  },
  {
   "cell_type": "markdown",
   "id": "d9c4b4f7-8643-4a6e-a15a-ce8a9b834b69",
   "metadata": {},
   "source": [
    "### utility"
   ]
  },
  {
   "cell_type": "code",
   "execution_count": 8,
   "id": "5c6f0c38-099f-4c4d-a589-60c51daa9153",
   "metadata": {},
   "outputs": [],
   "source": [
    "def check_is_empty(box):\n",
    "    return box == 0"
   ]
  },
  {
   "cell_type": "code",
   "execution_count": 9,
   "id": "95062f33-ec49-4e7a-8c1d-c5965f8ee88e",
   "metadata": {},
   "outputs": [],
   "source": [
    "def check_is_same_color(box1, box2):\n",
    "    return box1 == box2"
   ]
  },
  {
   "cell_type": "code",
   "execution_count": 10,
   "id": "e785b6cd-6dfe-46d3-b269-89ede4911f12",
   "metadata": {},
   "outputs": [],
   "source": [
    "def check_is_empty_board(board):\n",
    "    return (board == 0).all()"
   ]
  },
  {
   "cell_type": "markdown",
   "id": "7a9464b6-4475-4122-89f1-4625d80faa10",
   "metadata": {},
   "source": [
    "### find move"
   ]
  },
  {
   "cell_type": "code",
   "execution_count": 11,
   "id": "a502c869-ab6d-4d48-a156-f439c812ae4a",
   "metadata": {},
   "outputs": [],
   "source": [
    "def findAllMove():\n",
    "    all_move_index = []\n",
    "    row_arange = np.arange(0, 9, 1)\n",
    "    col_arange = np.arange(0, 7, 1)\n",
    "    row_index, col_index = np.meshgrid(row_arange, col_arange)\n",
    "    point_index = np.vstack((row_index.reshape(-1), col_index.reshape(-1))).T\n",
    "\n",
    "    for index in point_index:\n",
    "\n",
    "        if index[1] < 6:\n",
    "            # move_right\n",
    "            move_right_index = np.array([index, index + np.array([0, 1])])\n",
    "            all_move_index.append(move_right_index)\n",
    "\n",
    "        if index[0] < 8:\n",
    "            # move_up\n",
    "            move_up_index = np.array([index, index + np.array([1, 0])])\n",
    "            all_move_index.append(move_up_index)\n",
    "\n",
    "    return np.array(all_move_index)"
   ]
  },
  {
   "cell_type": "code",
   "execution_count": 12,
   "id": "30836097-cb83-4864-96e1-4973a806ecfc",
   "metadata": {},
   "outputs": [],
   "source": [
    "def findNotDuplicateMove(board):\n",
    "    all_move_index = findAllMove()\n",
    "\n",
    "    not_duplicate_move_index = []\n",
    "    for move_index in all_move_index:\n",
    "        point_a_index = move_index[0]\n",
    "        point_a_value = board[point_a_index[0], point_a_index[1]]\n",
    "\n",
    "        point_b_index = move_index[1]\n",
    "        point_b_value = board[point_b_index[0], point_b_index[1]]\n",
    "\n",
    "        if not check_is_same_color(point_a_value, point_b_value):\n",
    "            not_duplicate_move_index.append(move_index)\n",
    "\n",
    "    return np.array(not_duplicate_move_index)"
   ]
  },
  {
   "cell_type": "markdown",
   "id": "a38018a7-755c-414f-9a3d-91d733fdf760",
   "metadata": {},
   "source": [
    "## action"
   ]
  },
  {
   "cell_type": "code",
   "execution_count": 13,
   "id": "11161d0c-5644-41df-bcb9-8a8fc2ba2609",
   "metadata": {},
   "outputs": [],
   "source": [
    "def move(board, move_index):\n",
    "\n",
    "    # collect value\n",
    "    point_a_index = move_index[0]\n",
    "    point_a_value = board[point_a_index[0], point_a_index[1]].copy()\n",
    "\n",
    "    point_b_index = move_index[1]\n",
    "    point_b_value = board[point_b_index[0], point_b_index[1]].copy()\n",
    "\n",
    "    # move\n",
    "    board[point_a_index[0], point_a_index[1]] = point_b_value\n",
    "    board[point_b_index[0], point_b_index[1]] = point_a_value\n",
    "\n",
    "    board = fall(board)\n",
    "    board = remove(board)\n",
    "\n",
    "    return board"
   ]
  },
  {
   "cell_type": "code",
   "execution_count": 14,
   "id": "0c80792a-8f17-40a0-9702-368ecd39f1bd",
   "metadata": {},
   "outputs": [],
   "source": [
    "def fall(board):\n",
    "    for y in range(board.shape[1]):\n",
    "\n",
    "        x = 0\n",
    "        is_fall = False\n",
    "\n",
    "        while x < board.shape[0] - 1:\n",
    "\n",
    "            # skip floor and run loop\n",
    "            x += 1\n",
    "\n",
    "            # check below is empty\n",
    "            if not check_is_empty(board[x, y]) and check_is_empty(\n",
    "                board[x - 1, y]\n",
    "            ):\n",
    "\n",
    "                # fall\n",
    "                board[x - 1, y] = board[x, y].copy()\n",
    "                board[x, y] = 0\n",
    "                is_fall = True\n",
    "\n",
    "            if is_fall and (x >= board.shape[0] - 1):\n",
    "\n",
    "                # reset and fall again\n",
    "                x = 0\n",
    "                is_fall = False\n",
    "\n",
    "    return board"
   ]
  },
  {
   "cell_type": "code",
   "execution_count": 15,
   "id": "d09ff9bf-39f6-4508-bb4a-e232a91ca98c",
   "metadata": {},
   "outputs": [],
   "source": [
    "def remove(board):\n",
    "\n",
    "    remove_list = check(board)\n",
    "\n",
    "    if len(remove_list) > 0:\n",
    "        for remove_index in remove_list:\n",
    "            board[remove_index[0], remove_index[1]] = 0\n",
    "        board = fall(board)\n",
    "        board = remove(board)\n",
    "\n",
    "    return board"
   ]
  },
  {
   "cell_type": "code",
   "execution_count": 16,
   "id": "e3fe6cfd-bd5a-4fae-ae91-d63fbe93b50f",
   "metadata": {},
   "outputs": [],
   "source": [
    "def check(board):\n",
    "    remove_list = []\n",
    "\n",
    "    for x in range(board.shape[0]):\n",
    "        remove_list = remove_list + check_row(board, x)\n",
    "\n",
    "    for y in range(board.shape[1]):\n",
    "        remove_list = remove_list + check_col(board, y)\n",
    "\n",
    "    return remove_list"
   ]
  },
  {
   "cell_type": "code",
   "execution_count": 17,
   "id": "4394faf2-158f-4b50-891b-a9f5f52cd713",
   "metadata": {},
   "outputs": [],
   "source": [
    "def check_row(board, x):\n",
    "    count = 1\n",
    "    last_found = board[x, 0]\n",
    "    remove_list = []\n",
    "    is_change = False\n",
    "    for y in range(1, board.shape[1]):\n",
    "\n",
    "        if check_is_same_color(last_found, board[x, y]):\n",
    "            if check_is_empty(board[x, y]):\n",
    "                continue\n",
    "            else:\n",
    "                count += 1\n",
    "        else:\n",
    "            last_found = board[x, y]\n",
    "            is_change = True\n",
    "\n",
    "        if is_change:\n",
    "            if not check_is_empty(board[x, y - 1]):\n",
    "                if count >= 3:\n",
    "                    for i in range(count):\n",
    "                        remove_index = np.array([x, y - i - 1])\n",
    "                        remove_list.append(remove_index)\n",
    "            count = 1\n",
    "            is_change = False\n",
    "\n",
    "    return remove_list"
   ]
  },
  {
   "cell_type": "code",
   "execution_count": 18,
   "id": "ee21df1d-09ba-44f4-b32c-68dae75303cc",
   "metadata": {},
   "outputs": [],
   "source": [
    "def check_col(board, y):\n",
    "    count = 1\n",
    "    last_found = board[0, y]\n",
    "    remove_list = []\n",
    "    is_change = False\n",
    "    for x in range(1, board.shape[0]):\n",
    "\n",
    "        if check_is_same_color(last_found, board[x, y]):\n",
    "            if check_is_empty(board[x, y]):\n",
    "                continue\n",
    "            else:\n",
    "                count += 1\n",
    "        else:\n",
    "            last_found = board[x, y]\n",
    "            is_change = True\n",
    "\n",
    "        if is_change:\n",
    "            if not check_is_empty(board[x - 1, y]):\n",
    "                if count >= 3:\n",
    "                    for i in range(count):\n",
    "                        remove_index = np.array([x - i - 1, y])\n",
    "                        remove_list.append(remove_index)\n",
    "            count = 1\n",
    "            is_change = False\n",
    "\n",
    "    return remove_list"
   ]
  },
  {
   "cell_type": "markdown",
   "id": "eb30ccb6-0e43-4ad9-8ab8-f798b63707eb",
   "metadata": {},
   "source": [
    "## solve"
   ]
  },
  {
   "cell_type": "code",
   "execution_count": 19,
   "id": "de0bbed1-35e3-466d-a973-79aca71c5e55",
   "metadata": {},
   "outputs": [],
   "source": [
    "def solve(board, move_limit):\n",
    "\n",
    "    # max_move_limit\n",
    "    if move_limit <= 0:\n",
    "        return False, []\n",
    "\n",
    "    # find move\n",
    "    all_move = findNotDuplicateMove(board)\n",
    "\n",
    "    # move\n",
    "    for move_index in all_move:\n",
    "\n",
    "        move_count = len(all_move)\n",
    "\n",
    "        copy_board = board.copy()\n",
    "        moved_board = move(copy_board, move_index)\n",
    "        is_solve = check_is_empty_board(moved_board)\n",
    "        if is_solve:\n",
    "            # solved\n",
    "            return True, [move_index]\n",
    "        else:\n",
    "            # solve again with move_limit - 1\n",
    "            is_solve, solution = solve(moved_board, move_limit - 1)\n",
    "\n",
    "            # check solved and return\n",
    "            if is_solve:\n",
    "\n",
    "                # stack move\n",
    "                return is_solve, [move_index] + solution\n",
    "\n",
    "    # if all move and not solve\n",
    "    return is_solve, solution"
   ]
  },
  {
   "cell_type": "markdown",
   "id": "84fca33d-3268-49f3-b56c-c1934cc59f98",
   "metadata": {},
   "source": [
    "# test create board"
   ]
  },
  {
   "cell_type": "markdown",
   "id": "b4861633-8f49-48eb-b98a-9e996dd1ef93",
   "metadata": {},
   "source": [
    "## datset_1"
   ]
  },
  {
   "cell_type": "code",
   "execution_count": 20,
   "id": "781a604f-b5fc-4632-b516-ea0be423198d",
   "metadata": {},
   "outputs": [],
   "source": [
    "box_index = [\n",
    "    (\n",
    "        [0, 0, 2],\n",
    "        [0, 1, 2],\n",
    "    ),\n",
    "    (\n",
    "        [1, 2, 4, 1, 3, 5, 1, 2, 6, 7],\n",
    "        [0, 1, 1, 2, 2, 2, 3, 3, 3, 3],\n",
    "    ),\n",
    "    (\n",
    "        [1, 0, 4],\n",
    "        [1, 2, 3],\n",
    "    ),\n",
    "    (\n",
    "        [3, 4, 5],\n",
    "        [1, 2, 3],\n",
    "    ),\n",
    "    (\n",
    "        [0, 0, 3],\n",
    "        [3, 4, 3],\n",
    "    ),\n",
    "]"
   ]
  },
  {
   "cell_type": "code",
   "execution_count": 21,
   "id": "cf722b6b-c817-42f0-811d-6eaa4f670f6e",
   "metadata": {},
   "outputs": [],
   "source": [
    "box_value = [6, 3, 2, 1, 5]"
   ]
  },
  {
   "cell_type": "code",
   "execution_count": 22,
   "id": "00b1293f-c72c-466d-95fb-b1e4b95b100f",
   "metadata": {},
   "outputs": [],
   "source": [
    "board = createBoard()"
   ]
  },
  {
   "cell_type": "code",
   "execution_count": 23,
   "id": "5b33543d-5345-4d3c-b837-2547d6581e53",
   "metadata": {},
   "outputs": [],
   "source": [
    "board = addBox(board, box_index, box_value)"
   ]
  },
  {
   "cell_type": "code",
   "execution_count": 24,
   "id": "1d9aec40-c416-4a04-b264-44182b42bbbb",
   "metadata": {},
   "outputs": [
    {
     "data": {
      "image/png": "[encoded data removed]",
      "text/plain": [
       "<Figure size 252x324 with 1 Axes>"
      ]
     },
     "metadata": {
      "needs_background": "light"
     },
     "output_type": "display_data"
    }
   ],
   "source": [
    "displayBoard(board)"
   ]
  },
  {
   "cell_type": "code",
   "execution_count": 25,
   "id": "ae8ba5fe-cb2f-4f44-8f19-0dff177b5641",
   "metadata": {},
   "outputs": [
    {
     "data": {
      "text/plain": [
       "(45, 2, 2)"
      ]
     },
     "execution_count": 25,
     "metadata": {},
     "output_type": "execute_result"
    }
   ],
   "source": [
    "findNotDuplicateMove(board).shape"
   ]
  },
  {
   "cell_type": "code",
   "execution_count": 26,
   "id": "4495af1e-bb53-4aff-a746-383e5d6c39f6",
   "metadata": {},
   "outputs": [],
   "source": [
    "is_slove, solution = solve(board, 2)"
   ]
  },
  {
   "cell_type": "code",
   "execution_count": 27,
   "id": "2e0a38de-c596-4a39-91fa-8aa07202e3b1",
   "metadata": {},
   "outputs": [
    {
     "data": {
      "text/plain": [
       "True"
      ]
     },
     "execution_count": 27,
     "metadata": {},
     "output_type": "execute_result"
    }
   ],
   "source": [
    "is_slove"
   ]
  },
  {
   "cell_type": "code",
   "execution_count": 28,
   "id": "4826a6ca-6538-424a-b526-dcb75e87a4fa",
   "metadata": {},
   "outputs": [
    {
     "data": {
      "text/plain": [
       "array([[0, 2],\n",
       "       [1, 2]])"
      ]
     },
     "execution_count": 28,
     "metadata": {},
     "output_type": "execute_result"
    }
   ],
   "source": [
    "solution[0]"
   ]
  },
  {
   "cell_type": "code",
   "execution_count": 29,
   "id": "d6860fa1-b6ae-4f92-b71c-a24eb552f75c",
   "metadata": {},
   "outputs": [],
   "source": [
    "board = move(board,solution[0])"
   ]
  },
  {
   "cell_type": "code",
   "execution_count": 30,
   "id": "00ec2d17-a921-4cb6-bd67-e830db212741",
   "metadata": {},
   "outputs": [
    {
     "data": {
      "image/png": "[encoded data removed]",
      "text/plain": [
       "<Figure size 252x324 with 1 Axes>"
      ]
     },
     "metadata": {
      "needs_background": "light"
     },
     "output_type": "display_data"
    }
   ],
   "source": [
    "displayBoard(board)"
   ]
  },
  {
   "cell_type": "code",
   "execution_count": 31,
   "id": "1453d39c-6985-4911-9d90-e0de71783157",
   "metadata": {},
   "outputs": [
    {
     "data": {
      "text/plain": [
       "array([[0, 2],\n",
       "       [0, 3]])"
      ]
     },
     "execution_count": 31,
     "metadata": {},
     "output_type": "execute_result"
    }
   ],
   "source": [
    "solution[1]"
   ]
  },
  {
   "cell_type": "code",
   "execution_count": 32,
   "id": "2d36a427-df92-4edc-87e0-46d2d79c50bf",
   "metadata": {},
   "outputs": [],
   "source": [
    "board = move(board,solution[1])"
   ]
  },
  {
   "cell_type": "code",
   "execution_count": 33,
   "id": "c692102e-6654-460a-b90a-a8bcffd8f29b",
   "metadata": {},
   "outputs": [
    {
     "data": {
      "image/png": "[encoded data removed]",
      "text/plain": [
       "<Figure size 252x324 with 1 Axes>"
      ]
     },
     "metadata": {
      "needs_background": "light"
     },
     "output_type": "display_data"
    }
   ],
   "source": [
    "displayBoard(board)"
   ]
  },
  {
   "cell_type": "markdown",
   "id": "0f653210-a666-4442-a5a2-6922948ac673",
   "metadata": {},
   "source": [
    "## datset_2"
   ]
  },
  {
   "cell_type": "code",
   "execution_count": 34,
   "id": "837ebbd4-98e2-4164-96fb-55ae5bc3f311",
   "metadata": {},
   "outputs": [],
   "source": [
    "box_index = [\n",
    "    (\n",
    "        [0, 1, 2],\n",
    "        [0, 1, 2],\n",
    "    ),\n",
    "    (\n",
    "        [0, 1, 1],\n",
    "        [1, 2, 4],\n",
    "    ),\n",
    "    (\n",
    "        [0, 1, 3],\n",
    "        [2, 3, 4],\n",
    "    ),\n",
    "    (\n",
    "        [0, 0, 2],\n",
    "        [3, 4, 4],\n",
    "    )\n",
    "]"
   ]
  },
  {
   "cell_type": "code",
   "execution_count": 35,
   "id": "f2ebc91d-c30e-4c6d-a8b4-4fa6865dafcb",
   "metadata": {},
   "outputs": [],
   "source": [
    "box_value = [6, 3, 2, 1]"
   ]
  },
  {
   "cell_type": "code",
   "execution_count": 36,
   "id": "6c682f6c-7a8c-45e1-b902-ff9cc7ef44e2",
   "metadata": {},
   "outputs": [],
   "source": [
    "board = createBoard()"
   ]
  },
  {
   "cell_type": "code",
   "execution_count": 37,
   "id": "a227eace-a25a-4587-b625-7dfbdbceb3f7",
   "metadata": {},
   "outputs": [],
   "source": [
    "board = addBox(board, box_index, box_value)"
   ]
  },
  {
   "cell_type": "code",
   "execution_count": 38,
   "id": "d712c98a-a49f-4a9e-80b4-851285001233",
   "metadata": {},
   "outputs": [
    {
     "data": {
      "image/png": "[encoded data removed]",
      "text/plain": [
       "<Figure size 252x324 with 1 Axes>"
      ]
     },
     "metadata": {
      "needs_background": "light"
     },
     "output_type": "display_data"
    }
   ],
   "source": [
    "displayBoard(board)"
   ]
  },
  {
   "cell_type": "code",
   "execution_count": 39,
   "id": "ede62300-d82d-4981-85b8-51a9935a7fef",
   "metadata": {},
   "outputs": [],
   "source": [
    "is_slove, solution = solve(board, 2)"
   ]
  },
  {
   "cell_type": "code",
   "execution_count": 40,
   "id": "9917274f-c37c-4c5c-96a9-88aecb51b45a",
   "metadata": {},
   "outputs": [
    {
     "data": {
      "text/plain": [
       "True"
      ]
     },
     "execution_count": 40,
     "metadata": {},
     "output_type": "execute_result"
    }
   ],
   "source": [
    "is_slove"
   ]
  },
  {
   "cell_type": "code",
   "execution_count": 41,
   "id": "dedef9b8-10b0-4ed8-9e21-28c62b52dec2",
   "metadata": {},
   "outputs": [
    {
     "data": {
      "text/plain": [
       "array([[0, 3],\n",
       "       [1, 3]])"
      ]
     },
     "execution_count": 41,
     "metadata": {},
     "output_type": "execute_result"
    }
   ],
   "source": [
    "solution[0]"
   ]
  },
  {
   "cell_type": "code",
   "execution_count": 42,
   "id": "a4e52a6d-3963-463c-a6de-77536ad3119c",
   "metadata": {},
   "outputs": [],
   "source": [
    "board = move(board,solution[0])"
   ]
  },
  {
   "cell_type": "code",
   "execution_count": 43,
   "id": "a6e72bc3-15b7-4d0e-bb1c-68623eb38146",
   "metadata": {},
   "outputs": [
    {
     "data": {
      "image/png": "[encoded data removed]",
      "text/plain": [
       "<Figure size 252x324 with 1 Axes>"
      ]
     },
     "metadata": {
      "needs_background": "light"
     },
     "output_type": "display_data"
    }
   ],
   "source": [
    "displayBoard(board)"
   ]
  },
  {
   "cell_type": "code",
   "execution_count": 44,
   "id": "5e66119e-5a0d-4eba-8ff9-b8bb46374a1b",
   "metadata": {},
   "outputs": [
    {
     "data": {
      "text/plain": [
       "array([[1, 3],\n",
       "       [1, 4]])"
      ]
     },
     "execution_count": 44,
     "metadata": {},
     "output_type": "execute_result"
    }
   ],
   "source": [
    "solution[1]"
   ]
  },
  {
   "cell_type": "code",
   "execution_count": 45,
   "id": "391fac28-de3e-482a-9e95-cf806b9dcea2",
   "metadata": {},
   "outputs": [],
   "source": [
    "board = move(board,solution[1])"
   ]
  },
  {
   "cell_type": "code",
   "execution_count": 46,
   "id": "074228b6-18f6-4f91-9c47-ed98471f555e",
   "metadata": {},
   "outputs": [
    {
     "data": {
      "image/png": "[encoded data removed]",
      "text/plain": [
       "<Figure size 252x324 with 1 Axes>"
      ]
     },
     "metadata": {
      "needs_background": "light"
     },
     "output_type": "display_data"
    }
   ],
   "source": [
    "displayBoard(board)"
   ]
  },
  {
   "cell_type": "code",
   "execution_count": 47,
   "id": "4f4c62df-7050-4140-be1d-ffd6b9297ea8",
   "metadata": {},
   "outputs": [],
   "source": [
    "# test time"
   ]
  },
  {
   "cell_type": "code",
   "execution_count": 48,
   "id": "5ea5b4de-acf6-40b6-aa5e-0b8ec6177907",
   "metadata": {},
   "outputs": [],
   "source": [
    "import time"
   ]
  },
  {
   "cell_type": "code",
   "execution_count": 49,
   "id": "6d400645-edb1-4ece-aeb8-edd07dea13b9",
   "metadata": {},
   "outputs": [],
   "source": [
    "box_index = [\n",
    "    (\n",
    "        [0, 0, 2],\n",
    "        [0, 1, 2],\n",
    "    ),\n",
    "    (\n",
    "        [1, 2, 4, 1, 3, 5, 1, 2, 6, 7],\n",
    "        [0, 1, 1, 2, 2, 2, 3, 3, 3, 3],\n",
    "    ),\n",
    "    (\n",
    "        [1, 0, 4],\n",
    "        [1, 2, 3],\n",
    "    ),\n",
    "    (\n",
    "        [3, 4, 5],\n",
    "        [1, 2, 3],\n",
    "    ),\n",
    "    (\n",
    "        [0, 0, 3],\n",
    "        [3, 4, 3],\n",
    "    ),\n",
    "]"
   ]
  },
  {
   "cell_type": "code",
   "execution_count": 50,
   "id": "ed91409c-b10a-4050-b2d0-b689888adf7f",
   "metadata": {},
   "outputs": [],
   "source": [
    "box_value = [6, 3, 2, 1, 5]"
   ]
  },
  {
   "cell_type": "code",
   "execution_count": 51,
   "id": "ef961c9e-7534-4d28-bfde-f7a174535957",
   "metadata": {},
   "outputs": [],
   "source": [
    "board = createBoard()"
   ]
  },
  {
   "cell_type": "code",
   "execution_count": 52,
   "id": "35590408-9e36-433f-84d2-e809acf56697",
   "metadata": {},
   "outputs": [],
   "source": [
    "board = addBox(board, box_index, box_value)"
   ]
  },
  {
   "cell_type": "code",
   "execution_count": 53,
   "id": "ac041298-f12a-4f83-ba7c-36b428ae390e",
   "metadata": {},
   "outputs": [
    {
     "data": {
      "image/png": "[encoded data removed]",
      "text/plain": [
       "<Figure size 252x324 with 1 Axes>"
      ]
     },
     "metadata": {
      "needs_background": "light"
     },
     "output_type": "display_data"
    }
   ],
   "source": [
    "displayBoard(board)"
   ]
  },
  {
   "cell_type": "code",
   "execution_count": 54,
   "id": "c0a97d91-588a-42f9-879c-243293c1c44a",
   "metadata": {},
   "outputs": [],
   "source": [
    "start = time.time()\n",
    "for i in range(100):\n",
    "    is_slove, solution = solve(board, 2)"
   ]
  },
  {
   "cell_type": "code",
   "execution_count": 55,
   "id": "0a50529f-2260-4444-a167-12627ebbb981",
   "metadata": {},
   "outputs": [
    {
     "data": {
      "text/plain": [
       "43.22429037094116"
      ]
     },
     "execution_count": 55,
     "metadata": {},
     "output_type": "execute_result"
    }
   ],
   "source": [
    "time.time() - start"
   ]
  }
 ],
 "metadata": {
  "kernelspec": {
   "display_name": "Python 3",
   "language": "python",
   "name": "python3"
  },
  "language_info": {
   "codemirror_mode": {
    "name": "ipython",
    "version": 3
   },
   "file_extension": ".py",
   "mimetype": "text/x-python",
   "name": "python",
   "nbconvert_exporter": "python",
   "pygments_lexer": "ipython3",
   "version": "3.8.10"
  }
 },
 "nbformat": 4,
 "nbformat_minor": 5
}

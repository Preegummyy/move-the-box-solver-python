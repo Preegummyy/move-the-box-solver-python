{
 "cells": [
  {
   "cell_type": "markdown",
   "id": "f31f008d-583d-4ba0-bc92-6c22813d69ec",
   "metadata": {},
   "source": [
    "# import library"
   ]
  },
  {
   "cell_type": "code",
   "execution_count": 1,
   "id": "e853035a-efb8-4475-a2bc-1f57c01d746d",
   "metadata": {},
   "outputs": [],
   "source": [
    "import matplotlib.pyplot as plt\n",
    "import numpy as np\n",
    "from matplotlib.colors import LinearSegmentedColormap"
   ]
  },
  {
   "cell_type": "markdown",
   "id": "5f6034d5-5884-401f-8689-c7ada2776a78",
   "metadata": {},
   "source": [
    "# global setting"
   ]
  },
  {
   "cell_type": "markdown",
   "id": "49bae7a2-c714-48fb-8cb1-9f6bace89326",
   "metadata": {},
   "source": [
    "## bit definitions"
   ]
  },
  {
   "cell_type": "code",
   "execution_count": 2,
   "id": "0a46c105-e501-460c-8ffd-a6052836d3b0",
   "metadata": {
    "tags": []
   },
   "outputs": [
    {
     "data": {
      "text/html": [
       "<style>\n",
       "table {float:left}\n",
       "</style>\n"
      ],
      "text/plain": [
       "<IPython.core.display.HTML object>"
      ]
     },
     "metadata": {},
     "output_type": "display_data"
    }
   ],
   "source": [
    "%%html\n",
    "<style>\n",
    "table {float:left}\n",
    "</style>"
   ]
  },
  {
   "cell_type": "markdown",
   "id": "7ce3d028-e68f-48f8-8752-48a241e38d91",
   "metadata": {},
   "source": [
    "| box_value | box_name     | box_bit       |\n",
    "|-----------|--------------|---------------|\n",
    "| 0         | Empty        | [0,0,0,0,0,0] |\n",
    "| 1         | BrownWood    | [1,0,0,0,0,0] |\n",
    "| 2         | RedWood      | [0,1,0,0,0,0] |\n",
    "| 3         | GreenWood    | [0,0,1,0,0,0] |\n",
    "| 4         | BrownLeather | [0,0,0,1,0,0] |\n",
    "| 5         | BrownPaper   | [0,0,0,0,1,0] |\n",
    "| 6         | BlueSteel    | [0,0,0,0,0,1] |"
   ]
  },
  {
   "cell_type": "markdown",
   "id": "ddd27f06-0326-4005-abb5-92d84bf9cd90",
   "metadata": {},
   "source": [
    "## colors definitions"
   ]
  },
  {
   "cell_type": "code",
   "execution_count": 3,
   "id": "4d3c859b-5135-422a-b335-6ff90af006f0",
   "metadata": {},
   "outputs": [],
   "source": [
    "box_color_map_list = (\n",
    "    np.array(\n",
    "        [\n",
    "            [255, 255, 255],\n",
    "            [169, 133, 92],\n",
    "            [183, 71, 34],\n",
    "            [156, 164, 52],\n",
    "            [102, 65, 38],\n",
    "            [189, 140, 61],\n",
    "            [149, 165, 168],\n",
    "        ]\n",
    "    )\n",
    "    / 255\n",
    ")"
   ]
  },
  {
   "cell_type": "code",
   "execution_count": 4,
   "id": "06ee662f-5783-4648-a52f-1551d1ff9281",
   "metadata": {},
   "outputs": [],
   "source": [
    "box_color_map = LinearSegmentedColormap.from_list(\n",
    "    \"box_color_map\",\n",
    "    box_color_map_list,\n",
    "    box_color_map_list.shape[0],\n",
    ")"
   ]
  },
  {
   "cell_type": "markdown",
   "id": "b5425753-e620-4375-b515-66c444ec8077",
   "metadata": {},
   "source": [
    "# define function"
   ]
  },
  {
   "cell_type": "markdown",
   "id": "dc4f6c60-9cd5-414e-903b-ffc846ffb918",
   "metadata": {},
   "source": [
    "## board and display"
   ]
  },
  {
   "cell_type": "markdown",
   "id": "3864e972-befd-4b49-a967-5e53cf877ae8",
   "metadata": {},
   "source": [
    "### display board"
   ]
  },
  {
   "cell_type": "code",
   "execution_count": 5,
   "id": "a8aff974-6e18-474b-b053-58d50c1f87f7",
   "metadata": {},
   "outputs": [],
   "source": [
    "def displayBoard(board):\n",
    "\n",
    "    # create virtual board\n",
    "    display_board = np.zeros((9, 7), dtype=np.int8)\n",
    "    box_index = board.any(axis=2)\n",
    "    display_board[box_index] = np.argwhere(board)[:, 2] + 1\n",
    "\n",
    "    # plot virtual board\n",
    "    fig = plt.figure(figsize=(3.5, 4.5))\n",
    "    ax = fig.add_subplot(111)\n",
    "    ax.pcolor(\n",
    "        display_board,\n",
    "        cmap=box_color_map,\n",
    "        vmin=0,\n",
    "        vmax=6,\n",
    "        edgecolors=\"k\",\n",
    "        linewidth=2,\n",
    "    )\n",
    "\n",
    "    xticks_label = np.arange(0, 7, 1)\n",
    "    yticks_label = np.arange(0, 9, 1)\n",
    "\n",
    "    # centering of call\n",
    "    ax.set_xticks(xticks_label + 0.5, minor=False)\n",
    "    ax.set_yticks(yticks_label + 0.5, minor=False)\n",
    "\n",
    "    # label\n",
    "    ax.set_xticklabels(xticks_label)\n",
    "    ax.set_yticklabels(yticks_label)\n",
    "\n",
    "    plt.show()"
   ]
  },
  {
   "cell_type": "markdown",
   "id": "cece892f-e8d5-41ac-b5ff-6c3bd30e70e9",
   "metadata": {},
   "source": [
    "### create board"
   ]
  },
  {
   "cell_type": "code",
   "execution_count": 6,
   "id": "78c0f3b0-55bc-4c13-83ba-1af3245338cb",
   "metadata": {},
   "outputs": [],
   "source": [
    "def createBoard(box_index=None, box_value=None):\n",
    "\n",
    "    board = np.zeros((9, 7, 6), dtype=np.bool_)\n",
    "\n",
    "    if box_index == None or box_value == None:\n",
    "        return board\n",
    "\n",
    "    else:\n",
    "        return addBox(board, box_index, box_value)"
   ]
  },
  {
   "cell_type": "markdown",
   "id": "4ecaf0a0-067d-47ba-8f05-eb9b85e644aa",
   "metadata": {},
   "source": [
    "### add box"
   ]
  },
  {
   "cell_type": "code",
   "execution_count": 7,
   "id": "40ebb33b-54ce-4703-b9d3-fa31cab8ed5f",
   "metadata": {},
   "outputs": [],
   "source": [
    "def addBox(board, box_index, box_value):\n",
    "\n",
    "    if isinstance(box_value, int):\n",
    "        box = board[box_index]\n",
    "        box[:, box_value - 1] = 1\n",
    "        board[box_index] = box\n",
    "\n",
    "    if isinstance(box_value, list):\n",
    "\n",
    "        if len(box_value) != len(box_index):\n",
    "            raise Exception(\"len(list) is not match\")\n",
    "\n",
    "        for i in range(len(box_value)):\n",
    "            box = board[box_index[i]]\n",
    "            box[:, box_value[i] - 1] = 1\n",
    "            board[box_index[i]] = box\n",
    "\n",
    "    return board"
   ]
  },
  {
   "cell_type": "markdown",
   "id": "ab1c232f-9c03-4d3d-8ab7-7b320442ffaf",
   "metadata": {},
   "source": [
    "## solver"
   ]
  },
  {
   "cell_type": "markdown",
   "id": "588cd905-e4bc-49ab-ae63-86d88979501b",
   "metadata": {},
   "source": [
    "### utility"
   ]
  },
  {
   "cell_type": "code",
   "execution_count": 8,
   "id": "371ce2b5-e941-4fd8-908d-5d210fa314cf",
   "metadata": {},
   "outputs": [],
   "source": [
    "def check_is_empty(box):\n",
    "    return not box.any()"
   ]
  },
  {
   "cell_type": "code",
   "execution_count": 9,
   "id": "2f75a757-7246-4518-91a0-93813bde07c3",
   "metadata": {},
   "outputs": [],
   "source": [
    "def check_is_same_color(box1, box2):\n",
    "    return (box1 == box2).all()"
   ]
  },
  {
   "cell_type": "code",
   "execution_count": 10,
   "id": "2aa207ae-896e-4a65-acb2-54350a739c80",
   "metadata": {},
   "outputs": [],
   "source": [
    "def check_is_empty_board(board):\n",
    "    return not board.any()"
   ]
  },
  {
   "cell_type": "markdown",
   "id": "bd71de2d-f4b0-4fae-ac63-42c7d87695e2",
   "metadata": {},
   "source": [
    "### find move"
   ]
  },
  {
   "cell_type": "code",
   "execution_count": 11,
   "id": "5d0f00ab-6cc1-49c2-bfb7-3b4f7da4aa02",
   "metadata": {},
   "outputs": [],
   "source": [
    "def findAllMove():\n",
    "    all_move_index = []\n",
    "    row_arange = np.arange(0, 9, 1)\n",
    "    col_arange = np.arange(0, 7, 1)\n",
    "    row_index, col_index = np.meshgrid(row_arange, col_arange)\n",
    "    point_index = np.vstack((row_index.reshape(-1), col_index.reshape(-1))).T\n",
    "\n",
    "    for index in point_index:\n",
    "\n",
    "        if index[1] < 6:\n",
    "            # move_right\n",
    "            move_right_index = np.array([index, index + np.array([0, 1])])\n",
    "            all_move_index.append(move_right_index)\n",
    "\n",
    "        if index[0] < 8:\n",
    "            # move_up\n",
    "            move_up_index = np.array([index, index + np.array([1, 0])])\n",
    "            all_move_index.append(move_up_index)\n",
    "\n",
    "    return np.array(all_move_index)"
   ]
  },
  {
   "cell_type": "code",
   "execution_count": 12,
   "id": "d414a368-bbe7-4cb0-9f8d-9a7a18b7abcb",
   "metadata": {},
   "outputs": [],
   "source": [
    "def findNotDuplicateMove(board):\n",
    "    all_move_index = findAllMove()\n",
    "\n",
    "    not_duplicate_move_index = []\n",
    "    for move_index in all_move_index:\n",
    "        point_a_index = move_index[0]\n",
    "        point_a_value = board[point_a_index[0], point_a_index[1], :]\n",
    "\n",
    "        point_b_index = move_index[1]\n",
    "        point_b_value = board[point_b_index[0], point_b_index[1], :]\n",
    "\n",
    "        if not check_is_same_color(point_a_value, point_b_value):\n",
    "            not_duplicate_move_index.append(move_index)\n",
    "\n",
    "    return np.array(not_duplicate_move_index)"
   ]
  },
  {
   "cell_type": "markdown",
   "id": "f1ad4e18-02bf-4490-928f-50483a18d332",
   "metadata": {},
   "source": [
    "## action"
   ]
  },
  {
   "cell_type": "code",
   "execution_count": 13,
   "id": "3e5622c5-9201-4bcf-8522-b866180cc027",
   "metadata": {},
   "outputs": [],
   "source": [
    "def move(board, move_index):\n",
    "\n",
    "    # collect value\n",
    "    point_a_index = move_index[0]\n",
    "    point_a_value = board[point_a_index[0], point_a_index[1], :].copy()\n",
    "\n",
    "    point_b_index = move_index[1]\n",
    "    point_b_value = board[point_b_index[0], point_b_index[1], :].copy()\n",
    "\n",
    "    # move\n",
    "    board[point_a_index[0], point_a_index[1], :] = point_b_value\n",
    "    board[point_b_index[0], point_b_index[1], :] = point_a_value\n",
    "\n",
    "    board = fall(board)\n",
    "    board = remove(board)\n",
    "\n",
    "    return board"
   ]
  },
  {
   "cell_type": "code",
   "execution_count": 14,
   "id": "8722a45e-4583-409b-bdb3-e54811143887",
   "metadata": {},
   "outputs": [],
   "source": [
    "def fall(board):\n",
    "    for y in range(board.shape[1]):\n",
    "\n",
    "        x = 0\n",
    "        is_fall = False\n",
    "\n",
    "        while x < board.shape[0] - 1:\n",
    "\n",
    "            # skip floor and run loop\n",
    "            x += 1\n",
    "\n",
    "            # check below is empty\n",
    "            if not check_is_empty(board[x, y, :]) and check_is_empty(\n",
    "                board[x - 1, y, :]\n",
    "            ):\n",
    "\n",
    "                # fall\n",
    "                board[x - 1, y, :] = board[x, y, :].copy()\n",
    "                board[x, y, :] = False\n",
    "                is_fall = True\n",
    "\n",
    "            if is_fall and (x >= board.shape[0] - 1):\n",
    "\n",
    "                # reset and fall again\n",
    "                x = 0\n",
    "                is_fall = False\n",
    "\n",
    "    return board"
   ]
  },
  {
   "cell_type": "code",
   "execution_count": 15,
   "id": "b743b899-982c-4f76-b822-c08a381759a3",
   "metadata": {},
   "outputs": [],
   "source": [
    "def remove(board):\n",
    "\n",
    "    remove_list = check(board)\n",
    "\n",
    "    if len(remove_list) > 0:\n",
    "        for remove_index in remove_list:\n",
    "            board[remove_index[0], remove_index[1], :] = False\n",
    "        board = fall(board)\n",
    "        board = remove(board)\n",
    "\n",
    "    return board"
   ]
  },
  {
   "cell_type": "code",
   "execution_count": 16,
   "id": "5c122960-6a59-4a04-bc68-601134843d26",
   "metadata": {},
   "outputs": [],
   "source": [
    "def check(board):\n",
    "    remove_list = []\n",
    "\n",
    "    for x in range(board.shape[0]):\n",
    "        remove_list = remove_list + check_row(board, x)\n",
    "\n",
    "    for y in range(board.shape[1]):\n",
    "        remove_list = remove_list + check_col(board, y)\n",
    "\n",
    "    return remove_list"
   ]
  },
  {
   "cell_type": "code",
   "execution_count": 17,
   "id": "aa1dec5d-ffbf-4d3a-9e84-4edb10ac5182",
   "metadata": {},
   "outputs": [],
   "source": [
    "def check_row(board, x):\n",
    "    count = 1\n",
    "    last_found = board[x, 0, :]\n",
    "    remove_list = []\n",
    "    is_change = False\n",
    "    for y in range(1, board.shape[1]):\n",
    "\n",
    "        if check_is_same_color(last_found, board[x, y, :]):\n",
    "            if check_is_empty(board[x, y, :]):\n",
    "                continue\n",
    "            else:\n",
    "                count += 1\n",
    "                # end check index\n",
    "                if y >= board.shape[1] - 1:\n",
    "                    is_change = True\n",
    "        else:\n",
    "            last_found = board[x, y, :]\n",
    "            is_change = True\n",
    "\n",
    "        if is_change:\n",
    "            if not check_is_empty(board[x, y - 1, :]):\n",
    "                if count >= 3:\n",
    "                    for i in range(count):\n",
    "                        remove_index = np.array([x, y - i - 1])\n",
    "                        remove_list.append(remove_index)\n",
    "            count = 1\n",
    "            is_change = False\n",
    "\n",
    "    return remove_list"
   ]
  },
  {
   "cell_type": "code",
   "execution_count": 18,
   "id": "797567e8-a96a-4da7-bb24-2475baafade9",
   "metadata": {},
   "outputs": [],
   "source": [
    "def check_col(board, y):\n",
    "    count = 1\n",
    "    last_found = board[0, y, :]\n",
    "    remove_list = []\n",
    "    is_change = False\n",
    "    for x in range(1, board.shape[0]):\n",
    "\n",
    "        if check_is_same_color(last_found, board[x, y, :]):\n",
    "            if check_is_empty(board[x, y, :]):\n",
    "                continue\n",
    "            else:\n",
    "                count += 1\n",
    "                # end check index\n",
    "                if x >= board.shape[0] - 1:\n",
    "                    is_change = True\n",
    "        else:\n",
    "            last_found = board[x, y, :]\n",
    "            is_change = True\n",
    "\n",
    "        if is_change:\n",
    "            if not check_is_empty(board[x - 1, y, :]):\n",
    "                if count >= 3:\n",
    "                    for i in range(count):\n",
    "                        remove_index = np.array([x - i - 1, y])\n",
    "                        remove_list.append(remove_index)\n",
    "            count = 1\n",
    "            is_change = False\n",
    "\n",
    "    return remove_list"
   ]
  },
  {
   "cell_type": "markdown",
   "id": "18a91edc-15b4-4a01-b805-17e137a294e0",
   "metadata": {},
   "source": [
    "## solve"
   ]
  },
  {
   "cell_type": "code",
   "execution_count": 19,
   "id": "14d5d66d-90b1-45c7-a638-3d380e8c7530",
   "metadata": {},
   "outputs": [],
   "source": [
    "def solve(board, move_limit):\n",
    "\n",
    "    # max_move_limit\n",
    "    if move_limit <= 0:\n",
    "        return False, []\n",
    "\n",
    "    # find move\n",
    "    all_move = findNotDuplicateMove(board)\n",
    "\n",
    "    # move\n",
    "    for move_index in all_move:\n",
    "\n",
    "        move_count = len(all_move)\n",
    "\n",
    "        copy_board = board.copy()\n",
    "        moved_board = move(copy_board, move_index)\n",
    "        is_solve = check_is_empty_board(moved_board)\n",
    "        if is_solve:\n",
    "            # solved\n",
    "            return True, [move_index]\n",
    "        else:\n",
    "            # solve again with move_limit - 1\n",
    "            is_solve, solution = solve(moved_board, move_limit - 1)\n",
    "\n",
    "            # check solved and return\n",
    "            if is_solve:\n",
    "\n",
    "                # stack move\n",
    "                return is_solve, [move_index] + solution\n",
    "\n",
    "    # if all move and not solve\n",
    "    return is_solve, solution"
   ]
  },
  {
   "cell_type": "markdown",
   "id": "fd2a9138-7cc1-4ff0-95a0-2b4d4edaea79",
   "metadata": {},
   "source": [
    "# test create board"
   ]
  },
  {
   "cell_type": "markdown",
   "id": "258aade9-6e2c-4ab0-9867-cce6206286ed",
   "metadata": {},
   "source": [
    "## datset_1"
   ]
  },
  {
   "cell_type": "code",
   "execution_count": 20,
   "id": "042e6095-f11e-405b-9f4d-8b1dc1fdd137",
   "metadata": {},
   "outputs": [],
   "source": [
    "box_index = [\n",
    "    (\n",
    "        [0, 0, 2],\n",
    "        [0, 1, 2],\n",
    "    ),\n",
    "    (\n",
    "        [1, 2, 4, 1, 3, 5, 1, 2, 6, 7],\n",
    "        [0, 1, 1, 2, 2, 2, 3, 3, 3, 3],\n",
    "    ),\n",
    "    (\n",
    "        [1, 0, 4],\n",
    "        [1, 2, 3],\n",
    "    ),\n",
    "    (\n",
    "        [3, 4, 5],\n",
    "        [1, 2, 3],\n",
    "    ),\n",
    "    (\n",
    "        [0, 0, 3],\n",
    "        [3, 4, 3],\n",
    "    ),\n",
    "]"
   ]
  },
  {
   "cell_type": "code",
   "execution_count": 21,
   "id": "400ba2d6-6377-4a3f-a69f-1b6e331180bd",
   "metadata": {},
   "outputs": [],
   "source": [
    "box_value = [6, 3, 2, 1, 5]"
   ]
  },
  {
   "cell_type": "code",
   "execution_count": 22,
   "id": "a9740ab7-886a-4e2c-8f1b-2f273e897431",
   "metadata": {},
   "outputs": [],
   "source": [
    "board = createBoard()"
   ]
  },
  {
   "cell_type": "code",
   "execution_count": 23,
   "id": "901e18b8-f547-442a-be11-51d2388ba312",
   "metadata": {},
   "outputs": [],
   "source": [
    "board = addBox(board, box_index, box_value)"
   ]
  },
  {
   "cell_type": "code",
   "execution_count": 24,
   "id": "7601130f-bafb-4686-b33e-d15aa4d4e030",
   "metadata": {},
   "outputs": [
    {
     "data": {
      "image/png": "[encoded data removed]",
      "text/plain": [
       "<Figure size 252x324 with 1 Axes>"
      ]
     },
     "metadata": {
      "needs_background": "light"
     },
     "output_type": "display_data"
    }
   ],
   "source": [
    "displayBoard(board)"
   ]
  },
  {
   "cell_type": "code",
   "execution_count": 25,
   "id": "e5a28a75-8bf4-41f6-99d4-4f0ddcdfbcc3",
   "metadata": {},
   "outputs": [
    {
     "data": {
      "text/plain": [
       "(45, 2, 2)"
      ]
     },
     "execution_count": 25,
     "metadata": {},
     "output_type": "execute_result"
    }
   ],
   "source": [
    "findNotDuplicateMove(board).shape"
   ]
  },
  {
   "cell_type": "code",
   "execution_count": 26,
   "id": "5f7ece8b-923b-4380-8bb2-75f24b826205",
   "metadata": {},
   "outputs": [],
   "source": [
    "is_slove, solution = solve(board, 2)"
   ]
  },
  {
   "cell_type": "code",
   "execution_count": 27,
   "id": "ab20c5ff-7220-49a3-b275-fd3cb1275430",
   "metadata": {},
   "outputs": [
    {
     "data": {
      "text/plain": [
       "True"
      ]
     },
     "execution_count": 27,
     "metadata": {},
     "output_type": "execute_result"
    }
   ],
   "source": [
    "is_slove"
   ]
  },
  {
   "cell_type": "code",
   "execution_count": 28,
   "id": "9e09e700-1823-4621-b4d2-074716e0aab6",
   "metadata": {},
   "outputs": [
    {
     "data": {
      "text/plain": [
       "array([[0, 2],\n",
       "       [1, 2]])"
      ]
     },
     "execution_count": 28,
     "metadata": {},
     "output_type": "execute_result"
    }
   ],
   "source": [
    "solution[0]"
   ]
  },
  {
   "cell_type": "code",
   "execution_count": 29,
   "id": "3f1e8ca3-01bf-43c6-a258-388d92b55ac0",
   "metadata": {},
   "outputs": [],
   "source": [
    "board = move(board, solution[0])"
   ]
  },
  {
   "cell_type": "code",
   "execution_count": 30,
   "id": "794309e9-c85f-486a-8bd4-753fc48ddf56",
   "metadata": {},
   "outputs": [
    {
     "data": {
      "image/png": "[encoded data removed]",
      "text/plain": [
       "<Figure size 252x324 with 1 Axes>"
      ]
     },
     "metadata": {
      "needs_background": "light"
     },
     "output_type": "display_data"
    }
   ],
   "source": [
    "displayBoard(board)"
   ]
  },
  {
   "cell_type": "code",
   "execution_count": 31,
   "id": "a26ae68e-2842-4338-8f42-5fdb532a4f8d",
   "metadata": {},
   "outputs": [
    {
     "data": {
      "text/plain": [
       "array([[0, 2],\n",
       "       [0, 3]])"
      ]
     },
     "execution_count": 31,
     "metadata": {},
     "output_type": "execute_result"
    }
   ],
   "source": [
    "solution[1]"
   ]
  },
  {
   "cell_type": "code",
   "execution_count": 32,
   "id": "38af157d-1a14-4789-b3c5-a6664fe44f40",
   "metadata": {},
   "outputs": [],
   "source": [
    "board = move(board, solution[1])"
   ]
  },
  {
   "cell_type": "code",
   "execution_count": 33,
   "id": "0a160bfc-60f0-4207-b8d7-f24e051cf6cf",
   "metadata": {},
   "outputs": [
    {
     "data": {
      "image/png": "[encoded data removed]",
      "text/plain": [
       "<Figure size 252x324 with 1 Axes>"
      ]
     },
     "metadata": {
      "needs_background": "light"
     },
     "output_type": "display_data"
    }
   ],
   "source": [
    "displayBoard(board)"
   ]
  },
  {
   "cell_type": "markdown",
   "id": "560e1f0d-2712-4365-8587-6205ba6a601e",
   "metadata": {},
   "source": [
    "## datset_2"
   ]
  },
  {
   "cell_type": "code",
   "execution_count": 34,
   "id": "94033c5d-f4fb-4750-b8a1-c6b95301f260",
   "metadata": {},
   "outputs": [],
   "source": [
    "box_index = [\n",
    "    (\n",
    "        [0, 1, 2],\n",
    "        [0, 1, 2],\n",
    "    ),\n",
    "    (\n",
    "        [0, 1, 1],\n",
    "        [1, 2, 4],\n",
    "    ),\n",
    "    (\n",
    "        [0, 1, 3],\n",
    "        [2, 3, 4],\n",
    "    ),\n",
    "    (\n",
    "        [0, 0, 2],\n",
    "        [3, 4, 4],\n",
    "    ),\n",
    "]"
   ]
  },
  {
   "cell_type": "code",
   "execution_count": 35,
   "id": "f294c328-7f45-4de8-86df-3b8907661065",
   "metadata": {},
   "outputs": [],
   "source": [
    "box_value = [6, 3, 2, 1]"
   ]
  },
  {
   "cell_type": "code",
   "execution_count": 36,
   "id": "13988c66-9561-48f2-adf5-510ec4641990",
   "metadata": {},
   "outputs": [],
   "source": [
    "board = createBoard()"
   ]
  },
  {
   "cell_type": "code",
   "execution_count": 37,
   "id": "52875190-c47b-46f9-b6c2-33961c962beb",
   "metadata": {},
   "outputs": [],
   "source": [
    "board = addBox(board, box_index, box_value)"
   ]
  },
  {
   "cell_type": "code",
   "execution_count": 38,
   "id": "aa90ca47-e3c9-48a1-9478-61fab6714574",
   "metadata": {},
   "outputs": [
    {
     "data": {
      "image/png": "[encoded data removed]",
      "text/plain": [
       "<Figure size 252x324 with 1 Axes>"
      ]
     },
     "metadata": {
      "needs_background": "light"
     },
     "output_type": "display_data"
    }
   ],
   "source": [
    "displayBoard(board)"
   ]
  },
  {
   "cell_type": "code",
   "execution_count": 39,
   "id": "a5eca5ac-8a4c-42dd-b850-c3308310f733",
   "metadata": {},
   "outputs": [],
   "source": [
    "is_slove, solution = solve(board, 2)"
   ]
  },
  {
   "cell_type": "code",
   "execution_count": 40,
   "id": "8a8f1aa2-a158-4823-b351-749b98729016",
   "metadata": {},
   "outputs": [
    {
     "data": {
      "text/plain": [
       "True"
      ]
     },
     "execution_count": 40,
     "metadata": {},
     "output_type": "execute_result"
    }
   ],
   "source": [
    "is_slove"
   ]
  },
  {
   "cell_type": "code",
   "execution_count": 41,
   "id": "bc944dd8-dc70-4847-a4ff-6e5c2c9ad6ec",
   "metadata": {},
   "outputs": [
    {
     "data": {
      "text/plain": [
       "array([[0, 3],\n",
       "       [1, 3]])"
      ]
     },
     "execution_count": 41,
     "metadata": {},
     "output_type": "execute_result"
    }
   ],
   "source": [
    "solution[0]"
   ]
  },
  {
   "cell_type": "code",
   "execution_count": 42,
   "id": "6cd5736a-0349-4220-8034-c969f7069062",
   "metadata": {},
   "outputs": [],
   "source": [
    "board = move(board, solution[0])"
   ]
  },
  {
   "cell_type": "code",
   "execution_count": 43,
   "id": "60e20bc1-915d-404a-b393-ca184d24b272",
   "metadata": {},
   "outputs": [
    {
     "data": {
      "image/png": "[encoded data removed]",
      "text/plain": [
       "<Figure size 252x324 with 1 Axes>"
      ]
     },
     "metadata": {
      "needs_background": "light"
     },
     "output_type": "display_data"
    }
   ],
   "source": [
    "displayBoard(board)"
   ]
  },
  {
   "cell_type": "code",
   "execution_count": 44,
   "id": "c7c8e949-9373-42db-907e-a5f281bac8c3",
   "metadata": {},
   "outputs": [
    {
     "data": {
      "text/plain": [
       "array([[1, 3],\n",
       "       [1, 4]])"
      ]
     },
     "execution_count": 44,
     "metadata": {},
     "output_type": "execute_result"
    }
   ],
   "source": [
    "solution[1]"
   ]
  },
  {
   "cell_type": "code",
   "execution_count": 45,
   "id": "eda1be15-69cc-4c92-b91a-db851fbd356c",
   "metadata": {},
   "outputs": [],
   "source": [
    "board = move(board, solution[1])"
   ]
  },
  {
   "cell_type": "code",
   "execution_count": 46,
   "id": "0d065e38-2e8f-4cc5-901d-8ab5450b68ea",
   "metadata": {},
   "outputs": [
    {
     "data": {
      "image/png": "[encoded data removed]",
      "text/plain": [
       "<Figure size 252x324 with 1 Axes>"
      ]
     },
     "metadata": {
      "needs_background": "light"
     },
     "output_type": "display_data"
    }
   ],
   "source": [
    "displayBoard(board)"
   ]
  },
  {
   "cell_type": "code",
   "execution_count": 47,
   "id": "f31a88af-58f8-4b4e-a24d-1d785449f165",
   "metadata": {},
   "outputs": [],
   "source": [
    "# test time"
   ]
  },
  {
   "cell_type": "code",
   "execution_count": 48,
   "id": "0bcf3316-2a28-45e7-88f3-f12dd6247c3f",
   "metadata": {},
   "outputs": [],
   "source": [
    "import time"
   ]
  },
  {
   "cell_type": "code",
   "execution_count": 49,
   "id": "9d32bc95-7087-4278-be6c-b6ac3e19cdec",
   "metadata": {},
   "outputs": [],
   "source": [
    "box_index = [\n",
    "    (\n",
    "        [0, 0, 2],\n",
    "        [0, 1, 2],\n",
    "    ),\n",
    "    (\n",
    "        [1, 2, 4, 1, 3, 5, 1, 2, 6, 7],\n",
    "        [0, 1, 1, 2, 2, 2, 3, 3, 3, 3],\n",
    "    ),\n",
    "    (\n",
    "        [1, 0, 4],\n",
    "        [1, 2, 3],\n",
    "    ),\n",
    "    (\n",
    "        [3, 4, 5],\n",
    "        [1, 2, 3],\n",
    "    ),\n",
    "    (\n",
    "        [0, 0, 3],\n",
    "        [3, 4, 3],\n",
    "    ),\n",
    "]"
   ]
  },
  {
   "cell_type": "code",
   "execution_count": 50,
   "id": "38b1d87b-05b8-435a-b2f5-57de81e9124d",
   "metadata": {},
   "outputs": [],
   "source": [
    "box_value = [6, 3, 2, 1, 5]"
   ]
  },
  {
   "cell_type": "code",
   "execution_count": 51,
   "id": "24746836-5304-4d3a-b1ca-cf57b4270bfe",
   "metadata": {},
   "outputs": [],
   "source": [
    "board = createBoard()"
   ]
  },
  {
   "cell_type": "code",
   "execution_count": 52,
   "id": "f2e41c6c-fe39-4cce-a949-9134040d1a78",
   "metadata": {},
   "outputs": [],
   "source": [
    "board = addBox(board, box_index, box_value)"
   ]
  },
  {
   "cell_type": "code",
   "execution_count": 53,
   "id": "f8d0ea1f-d95e-431c-9038-7c853dc39aaa",
   "metadata": {},
   "outputs": [
    {
     "data": {
      "image/png": "[encoded data removed]",
      "text/plain": [
       "<Figure size 252x324 with 1 Axes>"
      ]
     },
     "metadata": {
      "needs_background": "light"
     },
     "output_type": "display_data"
    }
   ],
   "source": [
    "displayBoard(board)"
   ]
  },
  {
   "cell_type": "code",
   "execution_count": 54,
   "id": "e0d6f161-f7d1-42d4-9bc6-608755fc2bc5",
   "metadata": {},
   "outputs": [],
   "source": [
    "start = time.time()\n",
    "for i in range(100):\n",
    "    is_slove, solution = solve(board, 2)"
   ]
  },
  {
   "cell_type": "code",
   "execution_count": 55,
   "id": "20a27e59-1a57-49e3-b44c-d088e3a19b45",
   "metadata": {},
   "outputs": [
    {
     "data": {
      "text/plain": [
       "59.09329915046692"
      ]
     },
     "execution_count": 55,
     "metadata": {},
     "output_type": "execute_result"
    }
   ],
   "source": [
    "time.time() - start"
   ]
  }
 ],
 "metadata": {
  "kernelspec": {
   "display_name": "Python 3",
   "language": "python",
   "name": "python3"
  },
  "language_info": {
   "codemirror_mode": {
    "name": "ipython",
    "version": 3
   },
   "file_extension": ".py",
   "mimetype": "text/x-python",
   "name": "python",
   "nbconvert_exporter": "python",
   "pygments_lexer": "ipython3",
   "version": "3.8.10"
  }
 },
 "nbformat": 4,
 "nbformat_minor": 5
}
